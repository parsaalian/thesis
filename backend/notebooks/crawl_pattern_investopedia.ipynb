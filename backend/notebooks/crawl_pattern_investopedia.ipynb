{
 "cells": [
  {
   "cell_type": "code",
   "execution_count": 1,
   "id": "3f421f33",
   "metadata": {},
   "outputs": [],
   "source": [
    "import time\n",
    "import json\n",
    "from selenium import webdriver\n",
    "from selenium.webdriver.chrome.options import Options\n",
    "from tqdm import tqdm_notebook as tqdm"
   ]
  },
  {
   "cell_type": "code",
   "execution_count": 19,
   "id": "f85a4039",
   "metadata": {},
   "outputs": [],
   "source": [
    "chrome_options = Options()\n",
    "chrome_options.add_argument(\"--incognito\")\n",
    "driver = webdriver.Chrome(options=chrome_options, executable_path='./chromedriver')"
   ]
  },
  {
   "cell_type": "code",
   "execution_count": 20,
   "id": "7d788061",
   "metadata": {},
   "outputs": [],
   "source": [
    "driver.get('https://investopedia.com')\n",
    "driver.find_element_by_id('onetrust-accept-btn-handler').click()"
   ]
  },
  {
   "cell_type": "code",
   "execution_count": 4,
   "id": "23a2b117",
   "metadata": {},
   "outputs": [],
   "source": [
    "def is_title_relevant(title, term):\n",
    "    title = title.lower()\n",
    "    if 'definition' not in title:\n",
    "        return False\n",
    "    for part in term.lower().split(' '):\n",
    "        if part == 'pattern':\n",
    "            continue\n",
    "        if part not in title:\n",
    "            return False\n",
    "    return True"
   ]
  },
  {
   "cell_type": "code",
   "execution_count": 5,
   "id": "81e06d9f",
   "metadata": {},
   "outputs": [],
   "source": [
    "def get_to_article(search_term):    \n",
    "    driver.get('https://investopedia.com')\n",
    "    \n",
    "    # search the term in the main page\n",
    "    while True:\n",
    "        try:\n",
    "            driver.find_element_by_id('header__search_1-0').click()\n",
    "            break\n",
    "        except:\n",
    "            driver.find_element_by_id('onetrust-accept-btn-handler').click()\n",
    "\n",
    "    driver.find_element_by_class_name('search__input').send_keys(search_term)\n",
    "    driver.find_element_by_class_name('search__button').click()\n",
    "    time.sleep(0.5)\n",
    "    \n",
    "    # select the first result\n",
    "    results = driver.find_elements_by_class_name('search-results__link')\n",
    "    if len(results) == 0:\n",
    "        raise Exception('Search had no results.')\n",
    "    \n",
    "    results_data = []\n",
    "    \n",
    "    for result in results:\n",
    "        result_title = result.find_element_by_class_name('search-results__title').text\n",
    "        results_data.append([\n",
    "            result.find_element_by_class_name('search-results__title').text,\n",
    "            result.get_attribute('href')\n",
    "        ])\n",
    "    \n",
    "    data = []\n",
    "    relevant_term_found = False\n",
    "    \n",
    "    for result in results_data:\n",
    "        result_title = result[0]\n",
    "        result_href = result[1]\n",
    "        if is_title_relevant(result_title, search_term):\n",
    "            relevant_term_found = True\n",
    "            driver.get(result_href)\n",
    "            time.sleep(0.5)\n",
    "            data.append({\n",
    "                'href': driver.current_url,\n",
    "                'title': driver.find_element_by_id('article-heading_3-0').text,\n",
    "                'author': driver.find_element_by_id('mntl-byline__link_2-0').text,\n",
    "                'body': driver.find_element_by_id('mntl-sc-page_1-0').get_attribute('innerHTML')\n",
    "            })\n",
    "            driver.execute_script(\"window.history.go(-1)\")\n",
    "            time.sleep(0.5)\n",
    "            \n",
    "    if not relevant_term_found:\n",
    "        raise Exception('Search had no relevant results.')\n",
    "    \n",
    "    return data"
   ]
  },
  {
   "cell_type": "code",
   "execution_count": 17,
   "id": "38855634",
   "metadata": {},
   "outputs": [],
   "source": [
    "pattern_names = [\n",
    "    'two crows',\n",
    "    'three black crows',\n",
    "    'three inside',\n",
    "    'three line strike',\n",
    "    'three outside',\n",
    "    'three stars in south',\n",
    "    'three white soldiers',\n",
    "    'abandoned baby',\n",
    "    'advance block',\n",
    "    'belt hold',\n",
    "    'break away',\n",
    "    'closing marubozu',\n",
    "    'conceal babyswall',\n",
    "    'counterattack',\n",
    "    'dark cloud cover',\n",
    "    'doji',\n",
    "    'doji star',\n",
    "    'dragonfly doji',\n",
    "    'engulfing',\n",
    "    'evening doji star',\n",
    "    'evening star',\n",
    "    'gap side side white',\n",
    "    'gravestone doji',\n",
    "    'hammer',\n",
    "    'hanging man',\n",
    "    'harami',\n",
    "    'harami cross',\n",
    "    'high wave',\n",
    "    'hikkake',\n",
    "    'hikkake modified',\n",
    "    'identical three crows',\n",
    "    'in neck',\n",
    "    'inside',\n",
    "    'inverted hammer',\n",
    "    'kicking',\n",
    "    'kicking by length',\n",
    "    'ladder bottom',\n",
    "    'long legged doji',\n",
    "    'long line',\n",
    "    'marubozu',\n",
    "    'matching glow',\n",
    "    'mat hold',\n",
    "    'morning doji star',\n",
    "    'morning star',\n",
    "    'on neck',\n",
    "    'piercing',\n",
    "    'rickshaw man',\n",
    "    'rising three methods',\n",
    "    'falling three methods',\n",
    "    'separating lines',\n",
    "    'shooting star',\n",
    "    'short line',\n",
    "    'spinning top',\n",
    "    'stalled pattern',\n",
    "    'stick sandwich',\n",
    "    'takuri',\n",
    "    'tasuki gap',\n",
    "    'thrusting',\n",
    "    'tri star',\n",
    "    'unique three river',\n",
    "    'upside gap two crows',\n",
    "    'x side gap three methods'\n",
    "]"
   ]
  },
  {
   "cell_type": "code",
   "execution_count": 21,
   "id": "8b9540f3",
   "metadata": {},
   "outputs": [
    {
     "name": "stderr",
     "output_type": "stream",
     "text": [
      "/var/folders/dr/l8_gry7975l0f3fl8m62sdbh0000gn/T/ipykernel_54096/1704219214.py:3: TqdmDeprecationWarning: This function will be removed in tqdm==5.0.0\n",
      "Please use `tqdm.notebook.tqdm` instead of `tqdm.tqdm_notebook`\n",
      "  for pattern in tqdm(pattern_names):\n"
     ]
    },
    {
     "data": {
      "application/vnd.jupyter.widget-view+json": {
       "model_id": "610f2cb2344d40f4a7699ee2df1fed4e",
       "version_major": 2,
       "version_minor": 0
      },
      "text/plain": [
       "  0%|          | 0/3 [00:00<?, ?it/s]"
      ]
     },
     "metadata": {},
     "output_type": "display_data"
    }
   ],
   "source": [
    "data = {}\n",
    "\n",
    "for pattern in tqdm(pattern_names):\n",
    "    # attempt 5 times\n",
    "    for i in range(5):\n",
    "        try:\n",
    "            pattern_data = get_to_article(pattern + ' pattern')\n",
    "            data[pattern] = pattern_data\n",
    "            break\n",
    "        except Exception as e:\n",
    "            print(e)\n",
    "            print('pattern not found:', pattern)"
   ]
  },
  {
   "cell_type": "code",
   "execution_count": 25,
   "id": "5f582592",
   "metadata": {},
   "outputs": [],
   "source": [
    "with open('investopedia.json', 'w+') as f:\n",
    "    json.dump(data, f)"
   ]
  },
  {
   "cell_type": "code",
   "execution_count": null,
   "id": "65960746",
   "metadata": {},
   "outputs": [],
   "source": []
  }
 ],
 "metadata": {
  "kernelspec": {
   "display_name": "Django Shell-Plus",
   "language": "python",
   "name": "django_extensions"
  },
  "language_info": {
   "codemirror_mode": {
    "name": "ipython",
    "version": 3
   },
   "file_extension": ".py",
   "mimetype": "text/x-python",
   "name": "python",
   "nbconvert_exporter": "python",
   "pygments_lexer": "ipython3",
   "version": "3.9.4"
  }
 },
 "nbformat": 4,
 "nbformat_minor": 5
}
