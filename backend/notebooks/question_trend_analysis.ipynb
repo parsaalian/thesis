{
 "cells": [
  {
   "cell_type": "code",
   "execution_count": 1,
   "id": "0b93bf7e",
   "metadata": {},
   "outputs": [],
   "source": [
    "import os\n",
    "import django\n",
    "os.environ.setdefault('DJANGO_SETTINGS_MODULE', 'rest.settings')\n",
    "os.environ[\"DJANGO_ALLOW_ASYNC_UNSAFE\"] = \"true\"\n",
    "django.setup()"
   ]
  },
  {
   "cell_type": "code",
   "execution_count": 2,
   "id": "5112bb16",
   "metadata": {},
   "outputs": [],
   "source": [
    "from quiz.models import Pattern, HistoricalPatternActionPoint\n",
    "from bourse_refs_api.models import StockHistory"
   ]
  },
  {
   "cell_type": "code",
   "execution_count": 3,
   "id": "c62db6e1",
   "metadata": {},
   "outputs": [],
   "source": [
    "import numpy as np\n",
    "import pandas as pd\n",
    "import pandas_ta as ta\n",
    "\n",
    "from datetime import datetime\n",
    "from dateutil.relativedelta import relativedelta\n",
    "\n",
    "import matplotlib.pyplot as plt\n",
    "from plotly.subplots import make_subplots\n",
    "import plotly.graph_objects as go\n",
    "%matplotlib inline\n",
    "\n",
    "from tqdm import tqdm_notebook as tqdm"
   ]
  },
  {
   "cell_type": "code",
   "execution_count": 5,
   "id": "520d9f8c",
   "metadata": {},
   "outputs": [],
   "source": [
    "queryset = list(StockHistory.objects.all().values())\n",
    "history_df = pd.DataFrame(queryset)\n",
    "history_df.stock_id = list(map(lambda x: str(x['stock_id']), queryset))"
   ]
  },
  {
   "cell_type": "code",
   "execution_count": 28,
   "id": "386048cc",
   "metadata": {},
   "outputs": [],
   "source": [
    "history_df = history_df.sort_values(['stock_id', 'date'])"
   ]
  },
  {
   "cell_type": "code",
   "execution_count": 29,
   "id": "fc0d29b2",
   "metadata": {},
   "outputs": [],
   "source": [
    "history_df = history_df.rename(columns={\n",
    "    'max_price': 'high',\n",
    "    'min_price': 'low',\n",
    "    'last_deal_price': 'close',\n",
    "    'first_price': 'open',\n",
    "})"
   ]
  },
  {
   "cell_type": "code",
   "execution_count": 30,
   "id": "b1f3932f",
   "metadata": {},
   "outputs": [
    {
     "data": {
      "text/html": [
       "<div>\n",
       "<style scoped>\n",
       "    .dataframe tbody tr th:only-of-type {\n",
       "        vertical-align: middle;\n",
       "    }\n",
       "\n",
       "    .dataframe tbody tr th {\n",
       "        vertical-align: top;\n",
       "    }\n",
       "\n",
       "    .dataframe thead th {\n",
       "        text-align: right;\n",
       "    }\n",
       "</style>\n",
       "<table border=\"1\" class=\"dataframe\">\n",
       "  <thead>\n",
       "    <tr style=\"text-align: right;\">\n",
       "      <th></th>\n",
       "      <th>stock_id</th>\n",
       "      <th>date</th>\n",
       "      <th>id</th>\n",
       "      <th>high</th>\n",
       "      <th>low</th>\n",
       "      <th>last_price</th>\n",
       "      <th>close</th>\n",
       "      <th>open</th>\n",
       "      <th>yesterday_price</th>\n",
       "      <th>value</th>\n",
       "      <th>volume</th>\n",
       "      <th>count</th>\n",
       "    </tr>\n",
       "  </thead>\n",
       "  <tbody>\n",
       "    <tr>\n",
       "      <th>0</th>\n",
       "      <td>10024128313803797</td>\n",
       "      <td>2018-07-01</td>\n",
       "      <td>199359</td>\n",
       "      <td>4630</td>\n",
       "      <td>4402</td>\n",
       "      <td>4560</td>\n",
       "      <td>4449</td>\n",
       "      <td>4626</td>\n",
       "      <td>4518</td>\n",
       "      <td>1222345057</td>\n",
       "      <td>268076</td>\n",
       "      <td>70</td>\n",
       "    </tr>\n",
       "    <tr>\n",
       "      <th>1</th>\n",
       "      <td>10024128313803797</td>\n",
       "      <td>2018-07-02</td>\n",
       "      <td>199817</td>\n",
       "      <td>4610</td>\n",
       "      <td>4450</td>\n",
       "      <td>4480</td>\n",
       "      <td>4577</td>\n",
       "      <td>4610</td>\n",
       "      <td>4560</td>\n",
       "      <td>209031753</td>\n",
       "      <td>46661</td>\n",
       "      <td>27</td>\n",
       "    </tr>\n",
       "    <tr>\n",
       "      <th>2</th>\n",
       "      <td>10024128313803797</td>\n",
       "      <td>2018-07-03</td>\n",
       "      <td>200305</td>\n",
       "      <td>4610</td>\n",
       "      <td>4444</td>\n",
       "      <td>4471</td>\n",
       "      <td>4500</td>\n",
       "      <td>4610</td>\n",
       "      <td>4480</td>\n",
       "      <td>103204318</td>\n",
       "      <td>23083</td>\n",
       "      <td>23</td>\n",
       "    </tr>\n",
       "    <tr>\n",
       "      <th>3</th>\n",
       "      <td>10024128313803797</td>\n",
       "      <td>2018-07-04</td>\n",
       "      <td>200764</td>\n",
       "      <td>4448</td>\n",
       "      <td>4250</td>\n",
       "      <td>4318</td>\n",
       "      <td>4370</td>\n",
       "      <td>4443</td>\n",
       "      <td>4471</td>\n",
       "      <td>1362830638</td>\n",
       "      <td>315589</td>\n",
       "      <td>122</td>\n",
       "    </tr>\n",
       "    <tr>\n",
       "      <th>4</th>\n",
       "      <td>10024128313803797</td>\n",
       "      <td>2018-07-07</td>\n",
       "      <td>201242</td>\n",
       "      <td>4500</td>\n",
       "      <td>4230</td>\n",
       "      <td>4398</td>\n",
       "      <td>4445</td>\n",
       "      <td>4435</td>\n",
       "      <td>4318</td>\n",
       "      <td>722818025</td>\n",
       "      <td>164366</td>\n",
       "      <td>88</td>\n",
       "    </tr>\n",
       "    <tr>\n",
       "      <th>...</th>\n",
       "      <td>...</td>\n",
       "      <td>...</td>\n",
       "      <td>...</td>\n",
       "      <td>...</td>\n",
       "      <td>...</td>\n",
       "      <td>...</td>\n",
       "      <td>...</td>\n",
       "      <td>...</td>\n",
       "      <td>...</td>\n",
       "      <td>...</td>\n",
       "      <td>...</td>\n",
       "      <td>...</td>\n",
       "    </tr>\n",
       "    <tr>\n",
       "      <th>426144</th>\n",
       "      <td>9987529074833218</td>\n",
       "      <td>2021-08-09</td>\n",
       "      <td>464897</td>\n",
       "      <td>2661</td>\n",
       "      <td>2661</td>\n",
       "      <td>2661</td>\n",
       "      <td>2661</td>\n",
       "      <td>2661</td>\n",
       "      <td>2715</td>\n",
       "      <td>6632050215</td>\n",
       "      <td>2492315</td>\n",
       "      <td>105</td>\n",
       "    </tr>\n",
       "    <tr>\n",
       "      <th>426145</th>\n",
       "      <td>9987529074833218</td>\n",
       "      <td>2021-08-10</td>\n",
       "      <td>465614</td>\n",
       "      <td>2608</td>\n",
       "      <td>2608</td>\n",
       "      <td>2630</td>\n",
       "      <td>2608</td>\n",
       "      <td>2608</td>\n",
       "      <td>2661</td>\n",
       "      <td>2910530608</td>\n",
       "      <td>1116001</td>\n",
       "      <td>107</td>\n",
       "    </tr>\n",
       "    <tr>\n",
       "      <th>426146</th>\n",
       "      <td>9987529074833218</td>\n",
       "      <td>2021-08-11</td>\n",
       "      <td>466212</td>\n",
       "      <td>2700</td>\n",
       "      <td>2525</td>\n",
       "      <td>2586</td>\n",
       "      <td>2640</td>\n",
       "      <td>2525</td>\n",
       "      <td>2630</td>\n",
       "      <td>87206708928</td>\n",
       "      <td>33725442</td>\n",
       "      <td>2673</td>\n",
       "    </tr>\n",
       "    <tr>\n",
       "      <th>426147</th>\n",
       "      <td>9987529074833218</td>\n",
       "      <td>2021-08-14</td>\n",
       "      <td>466893</td>\n",
       "      <td>2637</td>\n",
       "      <td>2586</td>\n",
       "      <td>2632</td>\n",
       "      <td>2637</td>\n",
       "      <td>2637</td>\n",
       "      <td>2586</td>\n",
       "      <td>47145618452</td>\n",
       "      <td>17914812</td>\n",
       "      <td>1306</td>\n",
       "    </tr>\n",
       "    <tr>\n",
       "      <th>426148</th>\n",
       "      <td>9987529074833218</td>\n",
       "      <td>2021-08-15</td>\n",
       "      <td>467546</td>\n",
       "      <td>2676</td>\n",
       "      <td>2580</td>\n",
       "      <td>2598</td>\n",
       "      <td>2610</td>\n",
       "      <td>2670</td>\n",
       "      <td>2632</td>\n",
       "      <td>37700292208</td>\n",
       "      <td>14513036</td>\n",
       "      <td>1268</td>\n",
       "    </tr>\n",
       "  </tbody>\n",
       "</table>\n",
       "<p>426149 rows × 12 columns</p>\n",
       "</div>"
      ],
      "text/plain": [
       "                 stock_id        date      id  high   low  last_price  close  \\\n",
       "0       10024128313803797  2018-07-01  199359  4630  4402        4560   4449   \n",
       "1       10024128313803797  2018-07-02  199817  4610  4450        4480   4577   \n",
       "2       10024128313803797  2018-07-03  200305  4610  4444        4471   4500   \n",
       "3       10024128313803797  2018-07-04  200764  4448  4250        4318   4370   \n",
       "4       10024128313803797  2018-07-07  201242  4500  4230        4398   4445   \n",
       "...                   ...         ...     ...   ...   ...         ...    ...   \n",
       "426144   9987529074833218  2021-08-09  464897  2661  2661        2661   2661   \n",
       "426145   9987529074833218  2021-08-10  465614  2608  2608        2630   2608   \n",
       "426146   9987529074833218  2021-08-11  466212  2700  2525        2586   2640   \n",
       "426147   9987529074833218  2021-08-14  466893  2637  2586        2632   2637   \n",
       "426148   9987529074833218  2021-08-15  467546  2676  2580        2598   2610   \n",
       "\n",
       "        open  yesterday_price        value    volume  count  \n",
       "0       4626             4518   1222345057    268076     70  \n",
       "1       4610             4560    209031753     46661     27  \n",
       "2       4610             4480    103204318     23083     23  \n",
       "3       4443             4471   1362830638    315589    122  \n",
       "4       4435             4318    722818025    164366     88  \n",
       "...      ...              ...          ...       ...    ...  \n",
       "426144  2661             2715   6632050215   2492315    105  \n",
       "426145  2608             2661   2910530608   1116001    107  \n",
       "426146  2525             2630  87206708928  33725442   2673  \n",
       "426147  2637             2586  47145618452  17914812   1306  \n",
       "426148  2670             2632  37700292208  14513036   1268  \n",
       "\n",
       "[426149 rows x 12 columns]"
      ]
     },
     "execution_count": 30,
     "metadata": {},
     "output_type": "execute_result"
    }
   ],
   "source": [
    "history_df"
   ]
  },
  {
   "cell_type": "code",
   "execution_count": 137,
   "id": "d71e972b",
   "metadata": {},
   "outputs": [],
   "source": [
    "queryset = list(HistoricalPatternActionPoint.objects.filter(pattern_id='2crows').values())\n",
    "pattern = pd.DataFrame(queryset)\n",
    "pattern.stock_id = list(map(lambda x: str(x['stock_id']), queryset))"
   ]
  },
  {
   "cell_type": "code",
   "execution_count": 138,
   "id": "04b56720",
   "metadata": {},
   "outputs": [
    {
     "data": {
      "text/html": [
       "<div>\n",
       "<style scoped>\n",
       "    .dataframe tbody tr th:only-of-type {\n",
       "        vertical-align: middle;\n",
       "    }\n",
       "\n",
       "    .dataframe tbody tr th {\n",
       "        vertical-align: top;\n",
       "    }\n",
       "\n",
       "    .dataframe thead th {\n",
       "        text-align: right;\n",
       "    }\n",
       "</style>\n",
       "<table border=\"1\" class=\"dataframe\">\n",
       "  <thead>\n",
       "    <tr style=\"text-align: right;\">\n",
       "      <th></th>\n",
       "      <th>id</th>\n",
       "      <th>pattern_id</th>\n",
       "      <th>stock_id</th>\n",
       "      <th>date</th>\n",
       "      <th>value</th>\n",
       "    </tr>\n",
       "  </thead>\n",
       "  <tbody>\n",
       "    <tr>\n",
       "      <th>0</th>\n",
       "      <td>1</td>\n",
       "      <td>2crows</td>\n",
       "      <td>10120557300120078</td>\n",
       "      <td>2018-08-04</td>\n",
       "      <td>-100</td>\n",
       "    </tr>\n",
       "    <tr>\n",
       "      <th>1</th>\n",
       "      <td>2</td>\n",
       "      <td>2crows</td>\n",
       "      <td>10120557300120078</td>\n",
       "      <td>2019-07-16</td>\n",
       "      <td>-100</td>\n",
       "    </tr>\n",
       "    <tr>\n",
       "      <th>2</th>\n",
       "      <td>3</td>\n",
       "      <td>2crows</td>\n",
       "      <td>10568944722570445</td>\n",
       "      <td>2018-11-03</td>\n",
       "      <td>-100</td>\n",
       "    </tr>\n",
       "    <tr>\n",
       "      <th>3</th>\n",
       "      <td>4</td>\n",
       "      <td>2crows</td>\n",
       "      <td>11129387075131725</td>\n",
       "      <td>2021-01-06</td>\n",
       "      <td>-100</td>\n",
       "    </tr>\n",
       "    <tr>\n",
       "      <th>4</th>\n",
       "      <td>5</td>\n",
       "      <td>2crows</td>\n",
       "      <td>11403770140000603</td>\n",
       "      <td>2019-11-24</td>\n",
       "      <td>-100</td>\n",
       "    </tr>\n",
       "    <tr>\n",
       "      <th>...</th>\n",
       "      <td>...</td>\n",
       "      <td>...</td>\n",
       "      <td>...</td>\n",
       "      <td>...</td>\n",
       "      <td>...</td>\n",
       "    </tr>\n",
       "    <tr>\n",
       "      <th>699</th>\n",
       "      <td>700</td>\n",
       "      <td>2crows</td>\n",
       "      <td>9211775239375291</td>\n",
       "      <td>2020-03-04</td>\n",
       "      <td>-100</td>\n",
       "    </tr>\n",
       "    <tr>\n",
       "      <th>700</th>\n",
       "      <td>701</td>\n",
       "      <td>2crows</td>\n",
       "      <td>9481703061634967</td>\n",
       "      <td>2018-10-22</td>\n",
       "      <td>-100</td>\n",
       "    </tr>\n",
       "    <tr>\n",
       "      <th>701</th>\n",
       "      <td>702</td>\n",
       "      <td>2crows</td>\n",
       "      <td>9698674686691945</td>\n",
       "      <td>2019-12-21</td>\n",
       "      <td>-100</td>\n",
       "    </tr>\n",
       "    <tr>\n",
       "      <th>702</th>\n",
       "      <td>703</td>\n",
       "      <td>2crows</td>\n",
       "      <td>9698674686691945</td>\n",
       "      <td>2020-05-12</td>\n",
       "      <td>-100</td>\n",
       "    </tr>\n",
       "    <tr>\n",
       "      <th>703</th>\n",
       "      <td>704</td>\n",
       "      <td>2crows</td>\n",
       "      <td>9698674686691945</td>\n",
       "      <td>2020-05-20</td>\n",
       "      <td>-100</td>\n",
       "    </tr>\n",
       "  </tbody>\n",
       "</table>\n",
       "<p>704 rows × 5 columns</p>\n",
       "</div>"
      ],
      "text/plain": [
       "      id pattern_id           stock_id        date  value\n",
       "0      1     2crows  10120557300120078  2018-08-04   -100\n",
       "1      2     2crows  10120557300120078  2019-07-16   -100\n",
       "2      3     2crows  10568944722570445  2018-11-03   -100\n",
       "3      4     2crows  11129387075131725  2021-01-06   -100\n",
       "4      5     2crows  11403770140000603  2019-11-24   -100\n",
       "..   ...        ...                ...         ...    ...\n",
       "699  700     2crows   9211775239375291  2020-03-04   -100\n",
       "700  701     2crows   9481703061634967  2018-10-22   -100\n",
       "701  702     2crows   9698674686691945  2019-12-21   -100\n",
       "702  703     2crows   9698674686691945  2020-05-12   -100\n",
       "703  704     2crows   9698674686691945  2020-05-20   -100\n",
       "\n",
       "[704 rows x 5 columns]"
      ]
     },
     "execution_count": 138,
     "metadata": {},
     "output_type": "execute_result"
    }
   ],
   "source": [
    "pattern"
   ]
  },
  {
   "cell_type": "code",
   "execution_count": 103,
   "id": "9ffc530a",
   "metadata": {},
   "outputs": [],
   "source": [
    "def trend(pivot, ma=14):\n",
    "    history = history_df[\n",
    "        (history_df.stock_id == pivot.stock_id) &\n",
    "        (history_df.date >= pivot.date - relativedelta(days=14)) &\n",
    "        (history_df.date <= pivot.date + relativedelta(days=60))\n",
    "    ].set_index('date').sort_index()\n",
    "    \n",
    "    if len(history) < ma:\n",
    "        return { 'change': 0, 'time': 0 }\n",
    "    \n",
    "    sma = ta.sma(history.close, length=ma).dropna()\n",
    "    \n",
    "    suprimums = pd.concat([\n",
    "        sma[(sma.shift(1) < sma) & (sma.shift(-1) < sma)],\n",
    "        sma[(sma.shift(1) > sma) & (sma.shift(-1) > sma)]]\n",
    "    )\n",
    "    \n",
    "    if len(suprimums) > 0:\n",
    "        suprimum_date = suprimums.index[0] - relativedelta(days=ma//2)\n",
    "    else:\n",
    "        suprimum_date = history.index[-1] - relativedelta(days=ma//2)\n",
    "    \n",
    "    try:\n",
    "        suprimum_entry = history.loc[suprimum_date]\n",
    "    except:\n",
    "        suprimum_entry = history.loc[history.index[history.index.searchsorted(suprimum_date)]]\n",
    "        \n",
    "    return {\n",
    "        'change': (suprimum_entry.close / history.loc[pivot.date, 'close'] - 1) * 100,\n",
    "        'time': (suprimum_date - pivot.date).days\n",
    "    }"
   ]
  },
  {
   "cell_type": "code",
   "execution_count": 142,
   "id": "0dd1cf14",
   "metadata": {},
   "outputs": [
    {
     "name": "stderr",
     "output_type": "stream",
     "text": [
      "/var/folders/dr/l8_gry7975l0f3fl8m62sdbh0000gn/T/ipykernel_18085/203940825.py:3: TqdmDeprecationWarning: This function will be removed in tqdm==5.0.0\n",
      "Please use `tqdm.notebook.tqdm` instead of `tqdm.tqdm_notebook`\n",
      "  for i in tqdm(range(len(pattern))):\n"
     ]
    },
    {
     "data": {
      "application/vnd.jupyter.widget-view+json": {
       "model_id": "90630460423d43f59ad2377b8c134f5d",
       "version_major": 2,
       "version_minor": 0
      },
      "text/plain": [
       "  0%|          | 0/704 [00:00<?, ?it/s]"
      ]
     },
     "metadata": {},
     "output_type": "display_data"
    }
   ],
   "source": [
    "for value, group in pattern.groupby('value'):\n",
    "    performance_list = []\n",
    "    for i in tqdm(range(len(pattern))):\n",
    "        p = pattern.loc[i]\n",
    "        performance_list.append(trend(p))\n",
    "    perdf = pd.DataFrame(performance_list)\n",
    "    perdf = perdf[(perdf.change != 0) & (perdf.time > 0)]"
   ]
  },
  {
   "cell_type": "code",
   "execution_count": 106,
   "id": "df08a9d8",
   "metadata": {
    "scrolled": false
   },
   "outputs": [
    {
     "name": "stderr",
     "output_type": "stream",
     "text": [
      "/var/folders/dr/l8_gry7975l0f3fl8m62sdbh0000gn/T/ipykernel_18085/915902642.py:2: TqdmDeprecationWarning: This function will be removed in tqdm==5.0.0\n",
      "Please use `tqdm.notebook.tqdm` instead of `tqdm.tqdm_notebook`\n",
      "  for i in tqdm(range(len(pattern))):\n"
     ]
    },
    {
     "data": {
      "application/vnd.jupyter.widget-view+json": {
       "model_id": "2fdf6fc38fcd4c538cb757cd443b7a1d",
       "version_major": 2,
       "version_minor": 0
      },
      "text/plain": [
       "  0%|          | 0/2579 [00:00<?, ?it/s]"
      ]
     },
     "metadata": {},
     "output_type": "display_data"
    }
   ],
   "source": [
    "performance_list = []\n",
    "for i in tqdm(range(len(pattern))):\n",
    "    p = pattern.loc[i]\n",
    "    performance_list.append(trend(p))"
   ]
  },
  {
   "cell_type": "code",
   "execution_count": 118,
   "id": "b628e890",
   "metadata": {},
   "outputs": [],
   "source": [
    "perdf = pd.DataFrame(performance_list)\n",
    "perdf = perdf[(perdf.change != 0) & (perfdf.time > 0)]"
   ]
  },
  {
   "cell_type": "code",
   "execution_count": 143,
   "id": "2247a81e",
   "metadata": {},
   "outputs": [
    {
     "data": {
      "text/plain": [
       "<AxesSubplot:>"
      ]
     },
     "execution_count": 143,
     "metadata": {},
     "output_type": "execute_result"
    },
    {
     "data": {
      "image/png": "[encoded data removed]",
      "text/plain": [
       "<Figure size 432x288 with 1 Axes>"
      ]
     },
     "metadata": {
      "needs_background": "light"
     },
     "output_type": "display_data"
    }
   ],
   "source": [
    "perdf.change.hist()"
   ]
  },
  {
   "cell_type": "code",
   "execution_count": 144,
   "id": "72995cb8",
   "metadata": {},
   "outputs": [
    {
     "data": {
      "text/html": [
       "<div>\n",
       "<style scoped>\n",
       "    .dataframe tbody tr th:only-of-type {\n",
       "        vertical-align: middle;\n",
       "    }\n",
       "\n",
       "    .dataframe tbody tr th {\n",
       "        vertical-align: top;\n",
       "    }\n",
       "\n",
       "    .dataframe thead th {\n",
       "        text-align: right;\n",
       "    }\n",
       "</style>\n",
       "<table border=\"1\" class=\"dataframe\">\n",
       "  <thead>\n",
       "    <tr style=\"text-align: right;\">\n",
       "      <th></th>\n",
       "      <th>change</th>\n",
       "      <th>time</th>\n",
       "    </tr>\n",
       "  </thead>\n",
       "  <tbody>\n",
       "    <tr>\n",
       "      <th>0</th>\n",
       "      <td>-1.602374</td>\n",
       "      <td>1</td>\n",
       "    </tr>\n",
       "    <tr>\n",
       "      <th>2</th>\n",
       "      <td>-10.898690</td>\n",
       "      <td>25</td>\n",
       "    </tr>\n",
       "    <tr>\n",
       "      <th>3</th>\n",
       "      <td>-30.806258</td>\n",
       "      <td>53</td>\n",
       "    </tr>\n",
       "    <tr>\n",
       "      <th>4</th>\n",
       "      <td>55.228671</td>\n",
       "      <td>35</td>\n",
       "    </tr>\n",
       "    <tr>\n",
       "      <th>5</th>\n",
       "      <td>15.167613</td>\n",
       "      <td>24</td>\n",
       "    </tr>\n",
       "    <tr>\n",
       "      <th>...</th>\n",
       "      <td>...</td>\n",
       "      <td>...</td>\n",
       "    </tr>\n",
       "    <tr>\n",
       "      <th>698</th>\n",
       "      <td>5.601966</td>\n",
       "      <td>9</td>\n",
       "    </tr>\n",
       "    <tr>\n",
       "      <th>699</th>\n",
       "      <td>-11.658736</td>\n",
       "      <td>19</td>\n",
       "    </tr>\n",
       "    <tr>\n",
       "      <th>700</th>\n",
       "      <td>-20.972644</td>\n",
       "      <td>51</td>\n",
       "    </tr>\n",
       "    <tr>\n",
       "      <th>701</th>\n",
       "      <td>-0.076695</td>\n",
       "      <td>4</td>\n",
       "    </tr>\n",
       "    <tr>\n",
       "      <th>703</th>\n",
       "      <td>46.692190</td>\n",
       "      <td>46</td>\n",
       "    </tr>\n",
       "  </tbody>\n",
       "</table>\n",
       "<p>651 rows × 2 columns</p>\n",
       "</div>"
      ],
      "text/plain": [
       "        change  time\n",
       "0    -1.602374     1\n",
       "2   -10.898690    25\n",
       "3   -30.806258    53\n",
       "4    55.228671    35\n",
       "5    15.167613    24\n",
       "..         ...   ...\n",
       "698   5.601966     9\n",
       "699 -11.658736    19\n",
       "700 -20.972644    51\n",
       "701  -0.076695     4\n",
       "703  46.692190    46\n",
       "\n",
       "[651 rows x 2 columns]"
      ]
     },
     "execution_count": 144,
     "metadata": {},
     "output_type": "execute_result"
    }
   ],
   "source": [
    "perdf"
   ]
  },
  {
   "cell_type": "code",
   "execution_count": 145,
   "id": "1d2872c5",
   "metadata": {},
   "outputs": [
    {
     "data": {
      "text/plain": [
       "13.26949958008484"
      ]
     },
     "execution_count": 145,
     "metadata": {},
     "output_type": "execute_result"
    }
   ],
   "source": [
    "perdf.change.mean()"
   ]
  },
  {
   "cell_type": "code",
   "execution_count": 146,
   "id": "0a4864eb",
   "metadata": {},
   "outputs": [
    {
     "data": {
      "text/plain": [
       "33.06976695678687"
      ]
     },
     "execution_count": 146,
     "metadata": {},
     "output_type": "execute_result"
    }
   ],
   "source": [
    "perdf.change.std()"
   ]
  },
  {
   "cell_type": "code",
   "execution_count": 147,
   "id": "5214c07d",
   "metadata": {},
   "outputs": [
    {
     "data": {
      "text/plain": [
       "0.6113671274961597"
      ]
     },
     "execution_count": 147,
     "metadata": {},
     "output_type": "execute_result"
    }
   ],
   "source": [
    "len(perdf[perdf.change > 0]) / len(perdf)"
   ]
  },
  {
   "cell_type": "code",
   "execution_count": 148,
   "id": "05f5ab55",
   "metadata": {},
   "outputs": [
    {
     "data": {
      "text/plain": [
       "22.89400921658986"
      ]
     },
     "execution_count": 148,
     "metadata": {},
     "output_type": "execute_result"
    }
   ],
   "source": [
    "perdf.time.mean()"
   ]
  },
  {
   "cell_type": "code",
   "execution_count": 149,
   "id": "40f93770",
   "metadata": {},
   "outputs": [
    {
     "data": {
      "text/plain": [
       "16.425481453472724"
      ]
     },
     "execution_count": 149,
     "metadata": {},
     "output_type": "execute_result"
    }
   ],
   "source": [
    "perdf.time.std()"
   ]
  },
  {
   "cell_type": "code",
   "execution_count": 150,
   "id": "33d3b788",
   "metadata": {},
   "outputs": [
    {
     "data": {
      "text/plain": [
       "<AxesSubplot:>"
      ]
     },
     "execution_count": 150,
     "metadata": {},
     "output_type": "execute_result"
    },
    {
     "data": {
      "image/png": "[encoded data removed]",
      "text/plain": [
       "<Figure size 432x288 with 1 Axes>"
      ]
     },
     "metadata": {
      "needs_background": "light"
     },
     "output_type": "display_data"
    }
   ],
   "source": [
    "perdf.time.hist()"
   ]
  },
  {
   "cell_type": "code",
   "execution_count": 154,
   "id": "a76a6f3a",
   "metadata": {},
   "outputs": [
    {
     "data": {
      "text/html": [
       "<div>\n",
       "<style scoped>\n",
       "    .dataframe tbody tr th:only-of-type {\n",
       "        vertical-align: middle;\n",
       "    }\n",
       "\n",
       "    .dataframe tbody tr th {\n",
       "        vertical-align: top;\n",
       "    }\n",
       "\n",
       "    .dataframe thead th {\n",
       "        text-align: right;\n",
       "    }\n",
       "</style>\n",
       "<table border=\"1\" class=\"dataframe\">\n",
       "  <thead>\n",
       "    <tr style=\"text-align: right;\">\n",
       "      <th></th>\n",
       "      <th>change</th>\n",
       "      <th>time</th>\n",
       "    </tr>\n",
       "  </thead>\n",
       "  <tbody>\n",
       "    <tr>\n",
       "      <th>count</th>\n",
       "      <td>651.000000</td>\n",
       "      <td>651.000000</td>\n",
       "    </tr>\n",
       "    <tr>\n",
       "      <th>mean</th>\n",
       "      <td>13.269500</td>\n",
       "      <td>22.894009</td>\n",
       "    </tr>\n",
       "    <tr>\n",
       "      <th>std</th>\n",
       "      <td>33.069767</td>\n",
       "      <td>16.425481</td>\n",
       "    </tr>\n",
       "    <tr>\n",
       "      <th>min</th>\n",
       "      <td>-94.316043</td>\n",
       "      <td>1.000000</td>\n",
       "    </tr>\n",
       "    <tr>\n",
       "      <th>25%</th>\n",
       "      <td>-3.738013</td>\n",
       "      <td>8.000000</td>\n",
       "    </tr>\n",
       "    <tr>\n",
       "      <th>50%</th>\n",
       "      <td>4.174573</td>\n",
       "      <td>21.000000</td>\n",
       "    </tr>\n",
       "    <tr>\n",
       "      <th>75%</th>\n",
       "      <td>21.758089</td>\n",
       "      <td>35.000000</td>\n",
       "    </tr>\n",
       "    <tr>\n",
       "      <th>max</th>\n",
       "      <td>213.175676</td>\n",
       "      <td>53.000000</td>\n",
       "    </tr>\n",
       "  </tbody>\n",
       "</table>\n",
       "</div>"
      ],
      "text/plain": [
       "           change        time\n",
       "count  651.000000  651.000000\n",
       "mean    13.269500   22.894009\n",
       "std     33.069767   16.425481\n",
       "min    -94.316043    1.000000\n",
       "25%     -3.738013    8.000000\n",
       "50%      4.174573   21.000000\n",
       "75%     21.758089   35.000000\n",
       "max    213.175676   53.000000"
      ]
     },
     "execution_count": 154,
     "metadata": {},
     "output_type": "execute_result"
    }
   ],
   "source": [
    "perdf.describe()"
   ]
  },
  {
   "cell_type": "code",
   "execution_count": 152,
   "id": "c3ceb302",
   "metadata": {},
   "outputs": [
    {
     "data": {
      "text/plain": [
       "<AxesSubplot:>"
      ]
     },
     "execution_count": 152,
     "metadata": {},
     "output_type": "execute_result"
    },
    {
     "data": {
      "image/png": "[encoded data removed]",
      "text/plain": [
       "<Figure size 432x288 with 1 Axes>"
      ]
     },
     "metadata": {
      "needs_background": "light"
     },
     "output_type": "display_data"
    }
   ],
   "source": [
    "perdf.change.hist()"
   ]
  },
  {
   "cell_type": "code",
   "execution_count": 160,
   "id": "01527a70",
   "metadata": {},
   "outputs": [
    {
     "data": {
      "text/html": [
       "<div>\n",
       "<style scoped>\n",
       "    .dataframe tbody tr th:only-of-type {\n",
       "        vertical-align: middle;\n",
       "    }\n",
       "\n",
       "    .dataframe tbody tr th {\n",
       "        vertical-align: top;\n",
       "    }\n",
       "\n",
       "    .dataframe thead th {\n",
       "        text-align: right;\n",
       "    }\n",
       "</style>\n",
       "<table border=\"1\" class=\"dataframe\">\n",
       "  <thead>\n",
       "    <tr style=\"text-align: right;\">\n",
       "      <th></th>\n",
       "      <th>id</th>\n",
       "      <th>pattern_id</th>\n",
       "      <th>stock_id</th>\n",
       "      <th>date</th>\n",
       "      <th>value</th>\n",
       "    </tr>\n",
       "  </thead>\n",
       "  <tbody>\n",
       "    <tr>\n",
       "      <th>0</th>\n",
       "      <td>456</td>\n",
       "      <td>2crows</td>\n",
       "      <td>52206600101613041</td>\n",
       "      <td>2020-08-19</td>\n",
       "      <td>-100</td>\n",
       "    </tr>\n",
       "    <tr>\n",
       "      <th>1</th>\n",
       "      <td>537</td>\n",
       "      <td>2crows</td>\n",
       "      <td>60350996279289099</td>\n",
       "      <td>2020-02-18</td>\n",
       "      <td>-100</td>\n",
       "    </tr>\n",
       "    <tr>\n",
       "      <th>2</th>\n",
       "      <td>693</td>\n",
       "      <td>2crows</td>\n",
       "      <td>8646067353086740</td>\n",
       "      <td>2019-01-09</td>\n",
       "      <td>-100</td>\n",
       "    </tr>\n",
       "    <tr>\n",
       "      <th>3</th>\n",
       "      <td>676</td>\n",
       "      <td>2crows</td>\n",
       "      <td>7503669593172728</td>\n",
       "      <td>2019-05-26</td>\n",
       "      <td>-100</td>\n",
       "    </tr>\n",
       "    <tr>\n",
       "      <th>4</th>\n",
       "      <td>31</td>\n",
       "      <td>2crows</td>\n",
       "      <td>13227300125161435</td>\n",
       "      <td>2018-09-03</td>\n",
       "      <td>-100</td>\n",
       "    </tr>\n",
       "    <tr>\n",
       "      <th>...</th>\n",
       "      <td>...</td>\n",
       "      <td>...</td>\n",
       "      <td>...</td>\n",
       "      <td>...</td>\n",
       "      <td>...</td>\n",
       "    </tr>\n",
       "    <tr>\n",
       "      <th>699</th>\n",
       "      <td>701</td>\n",
       "      <td>2crows</td>\n",
       "      <td>9481703061634967</td>\n",
       "      <td>2018-10-22</td>\n",
       "      <td>-100</td>\n",
       "    </tr>\n",
       "    <tr>\n",
       "      <th>700</th>\n",
       "      <td>378</td>\n",
       "      <td>2crows</td>\n",
       "      <td>44969149970836673</td>\n",
       "      <td>2018-09-11</td>\n",
       "      <td>-100</td>\n",
       "    </tr>\n",
       "    <tr>\n",
       "      <th>701</th>\n",
       "      <td>422</td>\n",
       "      <td>2crows</td>\n",
       "      <td>48981174642799639</td>\n",
       "      <td>2019-07-24</td>\n",
       "      <td>-100</td>\n",
       "    </tr>\n",
       "    <tr>\n",
       "      <th>702</th>\n",
       "      <td>278</td>\n",
       "      <td>2crows</td>\n",
       "      <td>35424116338766901</td>\n",
       "      <td>2020-01-27</td>\n",
       "      <td>-100</td>\n",
       "    </tr>\n",
       "    <tr>\n",
       "      <th>703</th>\n",
       "      <td>275</td>\n",
       "      <td>2crows</td>\n",
       "      <td>35366681030756042</td>\n",
       "      <td>2019-01-21</td>\n",
       "      <td>-100</td>\n",
       "    </tr>\n",
       "  </tbody>\n",
       "</table>\n",
       "<p>704 rows × 5 columns</p>\n",
       "</div>"
      ],
      "text/plain": [
       "      id pattern_id           stock_id        date  value\n",
       "0    456     2crows  52206600101613041  2020-08-19   -100\n",
       "1    537     2crows  60350996279289099  2020-02-18   -100\n",
       "2    693     2crows   8646067353086740  2019-01-09   -100\n",
       "3    676     2crows   7503669593172728  2019-05-26   -100\n",
       "4     31     2crows  13227300125161435  2018-09-03   -100\n",
       "..   ...        ...                ...         ...    ...\n",
       "699  701     2crows   9481703061634967  2018-10-22   -100\n",
       "700  378     2crows  44969149970836673  2018-09-11   -100\n",
       "701  422     2crows  48981174642799639  2019-07-24   -100\n",
       "702  278     2crows  35424116338766901  2020-01-27   -100\n",
       "703  275     2crows  35366681030756042  2019-01-21   -100\n",
       "\n",
       "[704 rows x 5 columns]"
      ]
     },
     "execution_count": 160,
     "metadata": {},
     "output_type": "execute_result"
    }
   ],
   "source": [
    "group.sample(frac=1).reset_index(drop=True)"
   ]
  },
  {
   "cell_type": "code",
   "execution_count": null,
   "id": "05834b24",
   "metadata": {},
   "outputs": [],
   "source": []
  }
 ],
 "metadata": {
  "kernelspec": {
   "display_name": "Python 3 (ipykernel)",
   "language": "python",
   "name": "python3"
  },
  "language_info": {
   "codemirror_mode": {
    "name": "ipython",
    "version": 3
   },
   "file_extension": ".py",
   "mimetype": "text/x-python",
   "name": "python",
   "nbconvert_exporter": "python",
   "pygments_lexer": "ipython3",
   "version": "3.9.4"
  }
 },
 "nbformat": 4,
 "nbformat_minor": 5
}
