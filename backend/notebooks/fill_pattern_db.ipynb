{
 "cells": [
  {
   "cell_type": "code",
   "execution_count": 1,
   "id": "1945157d",
   "metadata": {},
   "outputs": [],
   "source": [
    "import os\n",
    "import django\n",
    "os.environ.setdefault('DJANGO_SETTINGS_MODULE', 'rest.settings')\n",
    "os.environ[\"DJANGO_ALLOW_ASYNC_UNSAFE\"] = \"true\"\n",
    "django.setup()"
   ]
  },
  {
   "cell_type": "code",
   "execution_count": 2,
   "id": "d7fe7e66",
   "metadata": {},
   "outputs": [],
   "source": [
    "import json\n",
    "from markdownify import markdownify"
   ]
  },
  {
   "cell_type": "code",
   "execution_count": 3,
   "id": "0ff224d4",
   "metadata": {},
   "outputs": [],
   "source": [
    "from quiz.models import Pattern, PatternArticle"
   ]
  },
  {
   "cell_type": "code",
   "execution_count": 4,
   "id": "e2932e63",
   "metadata": {},
   "outputs": [],
   "source": [
    "pattern_data = {}\n",
    "with open('./investopedia.json', 'r') as f:\n",
    "    pattern_data = json.load(f)"
   ]
  },
  {
   "cell_type": "code",
   "execution_count": 5,
   "id": "b9a47446",
   "metadata": {},
   "outputs": [],
   "source": [
    "pattern_names = {\n",
    "    'two crows': '2crows',\n",
    "    'three black crows': '3blackcrows',\n",
    "    'three inside': '3inside',\n",
    "    'three line strike': '3linestrike',\n",
    "    'three outside': '3outside',\n",
    "    'three stars in south': '3starsinsouth',\n",
    "    'three white soldiers': '3whitesoldiers',\n",
    "    'abandoned baby': 'abandonedbaby',\n",
    "    'advance block': 'advanceblock',\n",
    "    'belt hold': 'belthold',\n",
    "    'break away': 'breakaway',\n",
    "    'closing marubozu': 'closingmarubozu',\n",
    "    'conceal babyswall': 'concealbabyswall',\n",
    "    'counterattack': 'counterattack',\n",
    "    'dark cloud cover': 'darkcloudcover',\n",
    "    'doji': 'doji',\n",
    "    'doji star': 'dojistar',\n",
    "    'dragonfly doji': 'dragonflydoji',\n",
    "    'engulfing': 'engulfing',\n",
    "    'evening doji star': 'eveningdojistar',\n",
    "    'evening star': 'eveningstar',\n",
    "    'gap side side white': 'gapsidesidewhite',\n",
    "    'gravestone doji': 'gravestonedoji',\n",
    "    'hammer': 'hammer',\n",
    "    'hanging man': 'hangingman',\n",
    "    'harami': 'harami',\n",
    "    'harami cross': 'haramicross',\n",
    "    'high wave': 'highwave',\n",
    "    'hikkake': 'hikkake',\n",
    "    'hikkake modified': 'hikkakemod',\n",
    "    'identical three crows': 'identical3crows',\n",
    "    'in neck': 'inneck',\n",
    "    'inside': 'inside',\n",
    "    'inverted hammer': 'invertedhammer',\n",
    "    'kicking': 'kicking',\n",
    "    'kicking by length': 'kickingbylength',\n",
    "    'ladder bottom': 'ladderbottom',\n",
    "    'long legged doji': 'longleggeddoji',\n",
    "    'long line': 'longline',\n",
    "    'marubozu': 'marubozu',\n",
    "    'matching glow': 'matchinglow',\n",
    "    'mat hold': 'mathold',\n",
    "    'morning doji star': 'morningdojistar',\n",
    "    'morning star': 'morningstar',\n",
    "    'on neck': 'onneck',\n",
    "    'piercing': 'piercing',\n",
    "    'rickshaw man': 'rickshawman',\n",
    "    'rising three methods': 'risefall3methods',\n",
    "    'falling three methods': 'risefall3methods',\n",
    "    'separating lines': 'separatinglines',\n",
    "    'shooting star': 'shootingstar',\n",
    "    'short line': 'shortline',\n",
    "    'spinning top': 'spinningtop',\n",
    "    'stalled pattern': 'stalledpattern',\n",
    "    'stick sandwich': 'sticksandwich',\n",
    "    'takuri': 'takuri',\n",
    "    'tasuki gap': 'tasukigap',\n",
    "    'thrusting': 'thrusting',\n",
    "    'tri star': 'tristar',\n",
    "    'unique three river': 'unique3river',\n",
    "    'upside gap two crows': 'upsidegap2crows',\n",
    "    'x side gap three methods': 'xsidegap3methods'\n",
    "}"
   ]
  },
  {
   "cell_type": "code",
   "execution_count": 6,
   "id": "230e7f4f",
   "metadata": {},
   "outputs": [],
   "source": [
    "for value in list(pattern_names.values()):\n",
    "    pattern = Pattern(pattern_key=value)\n",
    "    pattern.save()"
   ]
  },
  {
   "cell_type": "code",
   "execution_count": 8,
   "id": "3d62173b",
   "metadata": {},
   "outputs": [],
   "source": [
    "for key, value in pattern_names.items():\n",
    "    if key in pattern_data:\n",
    "        for article in pattern_data[key]:\n",
    "            pattern_article = PatternArticle(\n",
    "                pattern=Pattern.objects.get(pattern_key=value),\n",
    "                href=article['href'],\n",
    "                title=article['title'],\n",
    "                author=article['author'],\n",
    "                body=markdownify(article['body'].replace('\\n', ''))\n",
    "            )\n",
    "            pattern_article.save()"
   ]
  },
  {
   "cell_type": "code",
   "execution_count": 9,
   "id": "05cbe207",
   "metadata": {},
   "outputs": [
    {
     "data": {
      "text/plain": [
       "<QuerySet [<PatternArticle: PatternArticle object (https://www.investopedia.com/terms/u/upside-gap-two-crows.asp)>, <PatternArticle: PatternArticle object (https://www.investopedia.com/terms/t/three_black_crows.asp)>, <PatternArticle: PatternArticle object (https://www.investopedia.com/terms/t/three-inside-updown.asp)>, <PatternArticle: PatternArticle object (https://www.investopedia.com/terms/t/three-outside-updown.asp)>, <PatternArticle: PatternArticle object (https://www.investopedia.com/terms/t/three-stars-south.asp)>, <PatternArticle: PatternArticle object (https://www.investopedia.com/terms/t/three_white_soldiers.asp)>, <PatternArticle: PatternArticle object (https://www.investopedia.com/terms/b/bullish-abandoned-baby.asp)>, <PatternArticle: PatternArticle object (https://www.investopedia.com/terms/b/bearish-abandoned-baby.asp)>, <PatternArticle: PatternArticle object (https://www.investopedia.com/terms/a/advance-block.asp)>, <PatternArticle: PatternArticle object (https://www.investopedia.com/terms/b/bullishbelthold.asp)>, <PatternArticle: PatternArticle object (https://www.investopedia.com/terms/b/bearishbelthold.asp)>, <PatternArticle: PatternArticle object (https://www.investopedia.com/terms/c/counterattack.asp)>, <PatternArticle: PatternArticle object (https://www.investopedia.com/terms/d/darkcloud.asp)>, <PatternArticle: PatternArticle object (https://www.investopedia.com/terms/d/doji.asp)>, <PatternArticle: PatternArticle object (https://www.investopedia.com/terms/g/gravestone-doji.asp)>, <PatternArticle: PatternArticle object (https://www.investopedia.com/terms/d/dragonfly-doji.asp)>, <PatternArticle: PatternArticle object (https://www.investopedia.com/terms/l/long-legged-doji.asp)>, <PatternArticle: PatternArticle object (https://www.investopedia.com/terms/b/bullishengulfingpattern.asp)>, <PatternArticle: PatternArticle object (https://www.investopedia.com/terms/b/bearishengulfingp.asp)>, <PatternArticle: PatternArticle object (https://www.investopedia.com/terms/e/eveningstar.asp)>, '...(remaining elements truncated)...']>"
      ]
     },
     "execution_count": 9,
     "metadata": {},
     "output_type": "execute_result"
    }
   ],
   "source": [
    "PatternArticle.objects.all()"
   ]
  },
  {
   "cell_type": "code",
   "execution_count": null,
   "id": "81b7978c",
   "metadata": {},
   "outputs": [],
   "source": []
  }
 ],
 "metadata": {
  "kernelspec": {
   "display_name": "Django Shell-Plus",
   "language": "python",
   "name": "django_extensions"
  },
  "language_info": {
   "codemirror_mode": {
    "name": "ipython",
    "version": 3
   },
   "file_extension": ".py",
   "mimetype": "text/x-python",
   "name": "python",
   "nbconvert_exporter": "python",
   "pygments_lexer": "ipython3",
   "version": "3.9.4"
  }
 },
 "nbformat": 4,
 "nbformat_minor": 5
}
